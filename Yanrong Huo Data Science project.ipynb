{
 "cells": [
  {
   "cell_type": "code",
   "execution_count": 4,
   "id": "4086e15b",
   "metadata": {},
   "outputs": [
    {
     "name": "stdout",
     "output_type": "stream",
     "text": [
      "\u001b[33mWarning:\u001b[0m You are using macOS 10.15.\n",
      "We (and Apple) do not provide support for this old version.\n",
      "It is expected behaviour that some formulae will fail to build in this old version.\n",
      "It is expected behaviour that Homebrew will be buggy and slow.\n",
      "Do not create any issues about this on Homebrew's GitHub repositories.\n",
      "Do not create any issues even if you think this message is unrelated.\n",
      "Any opened issues will be immediately closed without response.\n",
      "Do not ask for help from MacHomebrew on Twitter.\n",
      "You may ask for help in Homebrew's discussions but are unlikely to receive a response.\n",
      "Try to figure out the problem yourself and submit a fix as a pull request.\n",
      "We will review it but may or may not accept it.\n",
      "\n",
      "\u001b[34m==>\u001b[0m \u001b[1mDownloading https://ghcr.io/v2/homebrew/core/libomp/manifests/15.0.5\u001b[0m\n",
      "######################################################################## 100.0%\n",
      "\u001b[34m==>\u001b[0m \u001b[1mDownloading https://ghcr.io/v2/homebrew/core/libomp/blobs/sha256:b854a6c8a9e\u001b[0m\n",
      "\u001b[34m==>\u001b[0m \u001b[1mDownloading from https://pkg-containers.githubusercontent.com/ghcr1/blobs/sh\u001b[0m\n",
      "######################################################################## 100.0%\n",
      "\u001b[34m==>\u001b[0m \u001b[1mDownloading https://ghcr.io/v2/homebrew/core/lightgbm/manifests/3.3.3\u001b[0m\n",
      "######################################################################## 100.0%\n",
      "\u001b[34m==>\u001b[0m \u001b[1mDownloading https://ghcr.io/v2/homebrew/core/lightgbm/blobs/sha256:1f48fc264\u001b[0m\n",
      "\u001b[34m==>\u001b[0m \u001b[1mDownloading from https://pkg-containers.githubusercontent.com/ghcr1/blobs/sh\u001b[0m\n",
      "######################################################################## 100.0%\n",
      "\u001b[32m==>\u001b[0m \u001b[1mInstalling dependencies for lightgbm: \u001b[32mlibomp\u001b[39m\u001b[0m\n",
      "\u001b[32m==>\u001b[0m \u001b[1mInstalling lightgbm dependency: \u001b[32mlibomp\u001b[39m\u001b[0m\n",
      "\u001b[34m==>\u001b[0m \u001b[1mPouring libomp--15.0.5.catalina.bottle.tar.gz\u001b[0m\n",
      "🍺  /usr/local/Cellar/libomp/15.0.5: 7 files, 1.6MB\n",
      "\u001b[32m==>\u001b[0m \u001b[1mInstalling \u001b[32mlightgbm\u001b[39m\u001b[0m\n",
      "\u001b[34m==>\u001b[0m \u001b[1mPouring lightgbm--3.3.3.catalina.bottle.tar.gz\u001b[0m\n",
      "🍺  /usr/local/Cellar/lightgbm/3.3.3: 98 files, 18.1MB\n",
      "\u001b[34m==>\u001b[0m \u001b[1mRunning `brew cleanup lightgbm`...\u001b[0m\n",
      "Disable this behaviour by setting HOMEBREW_NO_INSTALL_CLEANUP.\n",
      "Hide these hints with HOMEBREW_NO_ENV_HINTS (see `man brew`).\n"
     ]
    }
   ],
   "source": [
    "! brew install lightgbm"
   ]
  },
  {
   "cell_type": "code",
   "execution_count": 5,
   "id": "f2021952",
   "metadata": {},
   "outputs": [
    {
     "name": "stdout",
     "output_type": "stream",
     "text": [
      "\u001b[33mWarning:\u001b[0m You are using macOS 10.15.\n",
      "We (and Apple) do not provide support for this old version.\n",
      "It is expected behaviour that some formulae will fail to build in this old version.\n",
      "It is expected behaviour that Homebrew will be buggy and slow.\n",
      "Do not create any issues about this on Homebrew's GitHub repositories.\n",
      "Do not create any issues even if you think this message is unrelated.\n",
      "Any opened issues will be immediately closed without response.\n",
      "Do not ask for help from MacHomebrew on Twitter.\n",
      "You may ask for help in Homebrew's discussions but are unlikely to receive a response.\n",
      "Try to figure out the problem yourself and submit a fix as a pull request.\n",
      "We will review it but may or may not accept it.\n",
      "\n",
      "\u001b[34m==>\u001b[0m \u001b[1mDownloading https://ghcr.io/v2/homebrew/core/xgboost/manifests/1.7.1\u001b[0m\n",
      "######################################################################## 100.0%\n",
      "\u001b[34m==>\u001b[0m \u001b[1mDownloading https://ghcr.io/v2/homebrew/core/xgboost/blobs/sha256:a4303c48b2\u001b[0m\n",
      "\u001b[34m==>\u001b[0m \u001b[1mDownloading from https://pkg-containers.githubusercontent.com/ghcr1/blobs/sh\u001b[0m\n",
      "######################################################################## 100.0%\n",
      "\u001b[34m==>\u001b[0m \u001b[1mPouring xgboost--1.7.1.catalina.bottle.tar.gz\u001b[0m\n",
      "🍺  /usr/local/Cellar/xgboost/1.7.1: 190 files, 11.3MB\n",
      "\u001b[34m==>\u001b[0m \u001b[1mRunning `brew cleanup xgboost`...\u001b[0m\n",
      "Disable this behaviour by setting HOMEBREW_NO_INSTALL_CLEANUP.\n",
      "Hide these hints with HOMEBREW_NO_ENV_HINTS (see `man brew`).\n"
     ]
    }
   ],
   "source": [
    "! brew install xgboost"
   ]
  },
  {
   "cell_type": "code",
   "execution_count": 6,
   "id": "4b7455b6",
   "metadata": {},
   "outputs": [],
   "source": [
    "import numpy as np\n",
    "import pandas as pd \n",
    "import matplotlib.pyplot as plt\n",
    "from sklearn import preprocessing\n",
    "from sklearn.model_selection import train_test_split\n",
    "from lightgbm import LGBMRegressor\n",
    "from xgboost import XGBRegressor\n",
    "import sklearn.metrics as metrics\n",
    "import math\n",
    "import re"
   ]
  },
  {
   "cell_type": "code",
   "execution_count": 7,
   "id": "cd15ce74",
   "metadata": {},
   "outputs": [],
   "source": [
    "sample_submission = pd.read_csv(\"/Users/huoyanrong/Desktop/MMF/courses/data science/mmf-data-science-2022/sample_submission.csv\")\n",
    "test = pd.read_csv(\"/Users/huoyanrong/Desktop/MMF/courses/data science/mmf-data-science-2022/test.csv\")\n",
    "train = pd.read_csv(\"/Users/huoyanrong/Desktop/MMF/courses/data science/mmf-data-science-2022/train.csv\")\n",
    "#Creating a copy of the train and test datasets\n",
    "c_test  = test.copy()\n",
    "c_train  = train.copy()"
   ]
  },
  {
   "cell_type": "code",
   "execution_count": 8,
   "id": "2b4df9a8",
   "metadata": {},
   "outputs": [
    {
     "data": {
      "text/html": [
       "<div>\n",
       "<style scoped>\n",
       "    .dataframe tbody tr th:only-of-type {\n",
       "        vertical-align: middle;\n",
       "    }\n",
       "\n",
       "    .dataframe tbody tr th {\n",
       "        vertical-align: top;\n",
       "    }\n",
       "\n",
       "    .dataframe thead th {\n",
       "        text-align: right;\n",
       "    }\n",
       "</style>\n",
       "<table border=\"1\" class=\"dataframe\">\n",
       "  <thead>\n",
       "    <tr style=\"text-align: right;\">\n",
       "      <th></th>\n",
       "      <th>id</th>\n",
       "      <th>carat</th>\n",
       "      <th>cut</th>\n",
       "      <th>color</th>\n",
       "      <th>clarity</th>\n",
       "      <th>depth</th>\n",
       "      <th>table</th>\n",
       "      <th>price</th>\n",
       "      <th>x</th>\n",
       "      <th>y</th>\n",
       "      <th>z</th>\n",
       "    </tr>\n",
       "  </thead>\n",
       "  <tbody>\n",
       "    <tr>\n",
       "      <th>0</th>\n",
       "      <td>0</td>\n",
       "      <td>1.01</td>\n",
       "      <td>Very Good</td>\n",
       "      <td>E</td>\n",
       "      <td>SI2</td>\n",
       "      <td>60.0</td>\n",
       "      <td>60.0</td>\n",
       "      <td>4540</td>\n",
       "      <td>6.57</td>\n",
       "      <td>6.49</td>\n",
       "      <td>3.92</td>\n",
       "    </tr>\n",
       "    <tr>\n",
       "      <th>1</th>\n",
       "      <td>1</td>\n",
       "      <td>1.10</td>\n",
       "      <td>Premium</td>\n",
       "      <td>H</td>\n",
       "      <td>VS2</td>\n",
       "      <td>62.5</td>\n",
       "      <td>58.0</td>\n",
       "      <td>5729</td>\n",
       "      <td>6.59</td>\n",
       "      <td>6.54</td>\n",
       "      <td>4.10</td>\n",
       "    </tr>\n",
       "    <tr>\n",
       "      <th>2</th>\n",
       "      <td>2</td>\n",
       "      <td>1.50</td>\n",
       "      <td>Good</td>\n",
       "      <td>E</td>\n",
       "      <td>SI2</td>\n",
       "      <td>61.5</td>\n",
       "      <td>65.0</td>\n",
       "      <td>6300</td>\n",
       "      <td>7.21</td>\n",
       "      <td>7.17</td>\n",
       "      <td>4.42</td>\n",
       "    </tr>\n",
       "    <tr>\n",
       "      <th>3</th>\n",
       "      <td>3</td>\n",
       "      <td>1.53</td>\n",
       "      <td>Premium</td>\n",
       "      <td>E</td>\n",
       "      <td>SI1</td>\n",
       "      <td>61.3</td>\n",
       "      <td>59.0</td>\n",
       "      <td>12968</td>\n",
       "      <td>7.40</td>\n",
       "      <td>7.35</td>\n",
       "      <td>4.52</td>\n",
       "    </tr>\n",
       "    <tr>\n",
       "      <th>4</th>\n",
       "      <td>4</td>\n",
       "      <td>0.84</td>\n",
       "      <td>Fair</td>\n",
       "      <td>D</td>\n",
       "      <td>SI2</td>\n",
       "      <td>64.5</td>\n",
       "      <td>60.0</td>\n",
       "      <td>2167</td>\n",
       "      <td>5.92</td>\n",
       "      <td>5.84</td>\n",
       "      <td>3.79</td>\n",
       "    </tr>\n",
       "  </tbody>\n",
       "</table>\n",
       "</div>"
      ],
      "text/plain": [
       "   id  carat        cut color clarity  depth  table  price     x     y     z\n",
       "0   0   1.01  Very Good     E     SI2   60.0   60.0   4540  6.57  6.49  3.92\n",
       "1   1   1.10    Premium     H     VS2   62.5   58.0   5729  6.59  6.54  4.10\n",
       "2   2   1.50       Good     E     SI2   61.5   65.0   6300  7.21  7.17  4.42\n",
       "3   3   1.53    Premium     E     SI1   61.3   59.0  12968  7.40  7.35  4.52\n",
       "4   4   0.84       Fair     D     SI2   64.5   60.0   2167  5.92  5.84  3.79"
      ]
     },
     "execution_count": 8,
     "metadata": {},
     "output_type": "execute_result"
    }
   ],
   "source": [
    "c_train.head()"
   ]
  },
  {
   "cell_type": "code",
   "execution_count": 9,
   "id": "461ebe49",
   "metadata": {},
   "outputs": [
    {
     "data": {
      "text/html": [
       "<div>\n",
       "<style scoped>\n",
       "    .dataframe tbody tr th:only-of-type {\n",
       "        vertical-align: middle;\n",
       "    }\n",
       "\n",
       "    .dataframe tbody tr th {\n",
       "        vertical-align: top;\n",
       "    }\n",
       "\n",
       "    .dataframe thead th {\n",
       "        text-align: right;\n",
       "    }\n",
       "</style>\n",
       "<table border=\"1\" class=\"dataframe\">\n",
       "  <thead>\n",
       "    <tr style=\"text-align: right;\">\n",
       "      <th></th>\n",
       "      <th>id</th>\n",
       "      <th>carat</th>\n",
       "      <th>cut</th>\n",
       "      <th>color</th>\n",
       "      <th>clarity</th>\n",
       "      <th>depth</th>\n",
       "      <th>table</th>\n",
       "      <th>x</th>\n",
       "      <th>y</th>\n",
       "      <th>z</th>\n",
       "    </tr>\n",
       "  </thead>\n",
       "  <tbody>\n",
       "    <tr>\n",
       "      <th>0</th>\n",
       "      <td>0</td>\n",
       "      <td>0.24</td>\n",
       "      <td>Ideal</td>\n",
       "      <td>G</td>\n",
       "      <td>VVS1</td>\n",
       "      <td>62.1</td>\n",
       "      <td>56.0</td>\n",
       "      <td>3.97</td>\n",
       "      <td>4.00</td>\n",
       "      <td>2.47</td>\n",
       "    </tr>\n",
       "    <tr>\n",
       "      <th>1</th>\n",
       "      <td>1</td>\n",
       "      <td>1.21</td>\n",
       "      <td>Very Good</td>\n",
       "      <td>F</td>\n",
       "      <td>VS2</td>\n",
       "      <td>62.9</td>\n",
       "      <td>54.0</td>\n",
       "      <td>6.78</td>\n",
       "      <td>6.82</td>\n",
       "      <td>4.28</td>\n",
       "    </tr>\n",
       "    <tr>\n",
       "      <th>2</th>\n",
       "      <td>2</td>\n",
       "      <td>0.50</td>\n",
       "      <td>Fair</td>\n",
       "      <td>E</td>\n",
       "      <td>SI1</td>\n",
       "      <td>61.7</td>\n",
       "      <td>68.0</td>\n",
       "      <td>5.09</td>\n",
       "      <td>5.03</td>\n",
       "      <td>3.12</td>\n",
       "    </tr>\n",
       "    <tr>\n",
       "      <th>3</th>\n",
       "      <td>3</td>\n",
       "      <td>0.50</td>\n",
       "      <td>Ideal</td>\n",
       "      <td>D</td>\n",
       "      <td>SI2</td>\n",
       "      <td>62.8</td>\n",
       "      <td>56.0</td>\n",
       "      <td>5.06</td>\n",
       "      <td>5.03</td>\n",
       "      <td>3.17</td>\n",
       "    </tr>\n",
       "    <tr>\n",
       "      <th>4</th>\n",
       "      <td>4</td>\n",
       "      <td>1.55</td>\n",
       "      <td>Ideal</td>\n",
       "      <td>E</td>\n",
       "      <td>SI2</td>\n",
       "      <td>62.3</td>\n",
       "      <td>55.0</td>\n",
       "      <td>7.44</td>\n",
       "      <td>7.37</td>\n",
       "      <td>4.61</td>\n",
       "    </tr>\n",
       "  </tbody>\n",
       "</table>\n",
       "</div>"
      ],
      "text/plain": [
       "   id  carat        cut color clarity  depth  table     x     y     z\n",
       "0   0   0.24      Ideal     G    VVS1   62.1   56.0  3.97  4.00  2.47\n",
       "1   1   1.21  Very Good     F     VS2   62.9   54.0  6.78  6.82  4.28\n",
       "2   2   0.50       Fair     E     SI1   61.7   68.0  5.09  5.03  3.12\n",
       "3   3   0.50      Ideal     D     SI2   62.8   56.0  5.06  5.03  3.17\n",
       "4   4   1.55      Ideal     E     SI2   62.3   55.0  7.44  7.37  4.61"
      ]
     },
     "execution_count": 9,
     "metadata": {},
     "output_type": "execute_result"
    }
   ],
   "source": [
    "c_test.head()"
   ]
  },
  {
   "cell_type": "code",
   "execution_count": 10,
   "id": "f03da76b",
   "metadata": {},
   "outputs": [
    {
     "name": "stdout",
     "output_type": "stream",
     "text": [
      "          id  carat        cut color clarity  depth  table    price     x  \\\n",
      "0          0   1.01  Very Good     E     SI2   60.0   60.0   4540.0  6.57   \n",
      "1          1   1.10    Premium     H     VS2   62.5   58.0   5729.0  6.59   \n",
      "2          2   1.50       Good     E     SI2   61.5   65.0   6300.0  7.21   \n",
      "3          3   1.53    Premium     E     SI1   61.3   59.0  12968.0  7.40   \n",
      "4          4   0.84       Fair     D     SI2   64.5   60.0   2167.0  5.92   \n",
      "...      ...    ...        ...   ...     ...    ...    ...      ...   ...   \n",
      "10784  10784   0.53      Ideal     F     VS2   62.3   55.0      NaN  5.20   \n",
      "10785  10785   0.41    Premium     G     SI1   61.3   60.0      NaN  4.75   \n",
      "10786  10786   0.51    Premium     G     VS2   62.4   58.0      NaN  5.11   \n",
      "10787  10787   1.08       Good     J     SI2   63.2   59.0      NaN  6.40   \n",
      "10788  10788   0.30      Ideal     E    VVS2   60.9   57.0      NaN  4.32   \n",
      "\n",
      "          y     z  train  \n",
      "0      6.49  3.92      1  \n",
      "1      6.54  4.10      1  \n",
      "2      7.17  4.42      1  \n",
      "3      7.35  4.52      1  \n",
      "4      5.84  3.79      1  \n",
      "...     ...   ...    ...  \n",
      "10784  5.17  3.23      0  \n",
      "10785  4.81  2.93      0  \n",
      "10786  5.12  3.19      0  \n",
      "10787  6.57  4.10      0  \n",
      "10788  4.35  2.64      0  \n",
      "\n",
      "[53943 rows x 12 columns]\n"
     ]
    }
   ],
   "source": [
    "c_train['train']  = 1\n",
    "c_test['train']  = 0\n",
    "df = pd.concat([c_train, c_test], axis=0,sort=False)\n",
    "print(df)"
   ]
  },
  {
   "cell_type": "code",
   "execution_count": 11,
   "id": "5b9e4d0f",
   "metadata": {},
   "outputs": [],
   "source": [
    "object_columns_df = df.select_dtypes(include=['object'])\n",
    "numerical_columns_df = df.select_dtypes(exclude=['object'])"
   ]
  },
  {
   "cell_type": "code",
   "execution_count": 12,
   "id": "d43204b8",
   "metadata": {},
   "outputs": [
    {
     "data": {
      "text/plain": [
       "cut        object\n",
       "color      object\n",
       "clarity    object\n",
       "dtype: object"
      ]
     },
     "execution_count": 12,
     "metadata": {},
     "output_type": "execute_result"
    }
   ],
   "source": [
    "object_columns_df.dtypes"
   ]
  },
  {
   "cell_type": "code",
   "execution_count": 13,
   "id": "bf2073ed",
   "metadata": {},
   "outputs": [
    {
     "data": {
      "text/plain": [
       "id         int64\n",
       "carat    float64\n",
       "depth    float64\n",
       "table    float64\n",
       "price    float64\n",
       "x        float64\n",
       "y        float64\n",
       "z        float64\n",
       "train      int64\n",
       "dtype: object"
      ]
     },
     "execution_count": 13,
     "metadata": {},
     "output_type": "execute_result"
    }
   ],
   "source": [
    "numerical_columns_df.dtypes"
   ]
  },
  {
   "cell_type": "code",
   "execution_count": 14,
   "id": "77b768d7",
   "metadata": {},
   "outputs": [
    {
     "name": "stdout",
     "output_type": "stream",
     "text": [
      "          id  carat  cut color clarity  depth  table    price     x     y  \\\n",
      "0          0   1.01    3     E     SI2   60.0   60.0   4540.0  6.57  6.49   \n",
      "1          1   1.10    4     H     VS2   62.5   58.0   5729.0  6.59  6.54   \n",
      "2          2   1.50    2     E     SI2   61.5   65.0   6300.0  7.21  7.17   \n",
      "3          3   1.53    4     E     SI1   61.3   59.0  12968.0  7.40  7.35   \n",
      "4          4   0.84    1     D     SI2   64.5   60.0   2167.0  5.92  5.84   \n",
      "...      ...    ...  ...   ...     ...    ...    ...      ...   ...   ...   \n",
      "10784  10784   0.53    5     F     VS2   62.3   55.0      NaN  5.20  5.17   \n",
      "10785  10785   0.41    4     G     SI1   61.3   60.0      NaN  4.75  4.81   \n",
      "10786  10786   0.51    4     G     VS2   62.4   58.0      NaN  5.11  5.12   \n",
      "10787  10787   1.08    2     J     SI2   63.2   59.0      NaN  6.40  6.57   \n",
      "10788  10788   0.30    5     E    VVS2   60.9   57.0      NaN  4.32  4.35   \n",
      "\n",
      "          z  train  \n",
      "0      3.92      1  \n",
      "1      4.10      1  \n",
      "2      4.42      1  \n",
      "3      4.52      1  \n",
      "4      3.79      1  \n",
      "...     ...    ...  \n",
      "10784  3.23      0  \n",
      "10785  2.93      0  \n",
      "10786  3.19      0  \n",
      "10787  4.10      0  \n",
      "10788  2.64      0  \n",
      "\n",
      "[53943 rows x 12 columns]\n"
     ]
    }
   ],
   "source": [
    "df[\"cut\"]=df[\"cut\"].map({\n",
    "    \"Ideal\":5,\n",
    "    \"Premium\":4,\n",
    "    \"Very Good\":3,\n",
    "    \"Good\":2,\n",
    "    \"Fair\":1})\n",
    "print(df)"
   ]
  },
  {
   "cell_type": "code",
   "execution_count": 15,
   "id": "f4a1e741",
   "metadata": {},
   "outputs": [],
   "source": [
    "df['color']=df['color'].map({'G':4,'E':6,'F':5,'H':3,'D':7,'I':2,'J' : 1})\n",
    "df['clarity']=df['clarity'].map({'SI1' : 3, 'VS2' : 4, 'SI2': 2,'VS1' : 5,'VVS2' : 6, 'VVS1': 7, 'IF' : 8,'I1' : 1})"
   ]
  },
  {
   "cell_type": "code",
   "execution_count": 16,
   "id": "2f5324fc",
   "metadata": {},
   "outputs": [
    {
     "name": "stdout",
     "output_type": "stream",
     "text": [
      "          id  carat  cut  color  clarity  depth  table    price     x     y  \\\n",
      "0          0   1.01    3      6        2   60.0   60.0   4540.0  6.57  6.49   \n",
      "1          1   1.10    4      3        4   62.5   58.0   5729.0  6.59  6.54   \n",
      "2          2   1.50    2      6        2   61.5   65.0   6300.0  7.21  7.17   \n",
      "3          3   1.53    4      6        3   61.3   59.0  12968.0  7.40  7.35   \n",
      "4          4   0.84    1      7        2   64.5   60.0   2167.0  5.92  5.84   \n",
      "...      ...    ...  ...    ...      ...    ...    ...      ...   ...   ...   \n",
      "10784  10784   0.53    5      5        4   62.3   55.0      NaN  5.20  5.17   \n",
      "10785  10785   0.41    4      4        3   61.3   60.0      NaN  4.75  4.81   \n",
      "10786  10786   0.51    4      4        4   62.4   58.0      NaN  5.11  5.12   \n",
      "10787  10787   1.08    2      1        2   63.2   59.0      NaN  6.40  6.57   \n",
      "10788  10788   0.30    5      6        6   60.9   57.0      NaN  4.32  4.35   \n",
      "\n",
      "          z  train  \n",
      "0      3.92      1  \n",
      "1      4.10      1  \n",
      "2      4.42      1  \n",
      "3      4.52      1  \n",
      "4      3.79      1  \n",
      "...     ...    ...  \n",
      "10784  3.23      0  \n",
      "10785  2.93      0  \n",
      "10786  3.19      0  \n",
      "10787  4.10      0  \n",
      "10788  2.64      0  \n",
      "\n",
      "[53943 rows x 12 columns]\n"
     ]
    }
   ],
   "source": [
    "print(df)"
   ]
  },
  {
   "cell_type": "code",
   "execution_count": 17,
   "id": "891172ea",
   "metadata": {},
   "outputs": [],
   "source": [
    "df = pd.get_dummies(df, columns=object_columns_df.columns)"
   ]
  },
  {
   "cell_type": "code",
   "execution_count": 18,
   "id": "abbc41eb",
   "metadata": {},
   "outputs": [],
   "source": [
    "df = df.drop(['id',],axis=1)\n",
    "df_train = df[df['train'] == 1]\n",
    "df_train = df_train.drop(['train'],axis=1)\n",
    "\n",
    "\n",
    "df_test = df[df['train'] == 0]\n",
    "df_test = df_test.drop(['price','train'],axis=1)"
   ]
  },
  {
   "cell_type": "code",
   "execution_count": 19,
   "id": "65d82076",
   "metadata": {},
   "outputs": [
    {
     "name": "stdout",
     "output_type": "stream",
     "text": [
      "       carat  depth  table    price     x     y     z  cut_1  cut_2  cut_3  \\\n",
      "0       1.01   60.0   60.0   4540.0  6.57  6.49  3.92      0      0      1   \n",
      "1       1.10   62.5   58.0   5729.0  6.59  6.54  4.10      0      0      0   \n",
      "2       1.50   61.5   65.0   6300.0  7.21  7.17  4.42      0      1      0   \n",
      "3       1.53   61.3   59.0  12968.0  7.40  7.35  4.52      0      0      0   \n",
      "4       0.84   64.5   60.0   2167.0  5.92  5.84  3.79      1      0      0   \n",
      "...      ...    ...    ...      ...   ...   ...   ...    ...    ...    ...   \n",
      "43149   1.05   62.4   59.0   4975.0  6.48  6.51  4.05      0      0      1   \n",
      "43150   0.47   61.0   55.0   1617.0  5.03  5.01  3.06      0      0      0   \n",
      "43151   0.33   60.3   58.0   1014.0  4.49  4.46  2.70      0      0      1   \n",
      "43152   0.90   62.8   59.0   2871.0  6.13  6.03  3.82      0      0      0   \n",
      "43153   1.14   60.4   58.0   6320.0  6.82  6.79  4.11      0      0      0   \n",
      "\n",
      "       ...  color_6  color_7  clarity_1  clarity_2  clarity_3  clarity_4  \\\n",
      "0      ...        1        0          0          1          0          0   \n",
      "1      ...        0        0          0          0          0          1   \n",
      "2      ...        1        0          0          1          0          0   \n",
      "3      ...        1        0          0          0          1          0   \n",
      "4      ...        0        1          0          1          0          0   \n",
      "...    ...      ...      ...        ...        ...        ...        ...   \n",
      "43149  ...        0        0          0          0          0          1   \n",
      "43150  ...        0        1          0          0          0          0   \n",
      "43151  ...        0        0          0          0          0          0   \n",
      "43152  ...        0        0          0          0          1          0   \n",
      "43153  ...        0        0          0          0          1          0   \n",
      "\n",
      "       clarity_5  clarity_6  clarity_7  clarity_8  \n",
      "0              0          0          0          0  \n",
      "1              0          0          0          0  \n",
      "2              0          0          0          0  \n",
      "3              0          0          0          0  \n",
      "4              0          0          0          0  \n",
      "...          ...        ...        ...        ...  \n",
      "43149          0          0          0          0  \n",
      "43150          1          0          0          0  \n",
      "43151          0          0          0          1  \n",
      "43152          0          0          0          0  \n",
      "43153          0          0          0          0  \n",
      "\n",
      "[43154 rows x 27 columns]\n",
      "       carat  depth  table     x     y     z  cut_1  cut_2  cut_3  cut_4  ...  \\\n",
      "0       0.24   62.1   56.0  3.97  4.00  2.47      0      0      0      0  ...   \n",
      "1       1.21   62.9   54.0  6.78  6.82  4.28      0      0      1      0  ...   \n",
      "2       0.50   61.7   68.0  5.09  5.03  3.12      1      0      0      0  ...   \n",
      "3       0.50   62.8   56.0  5.06  5.03  3.17      0      0      0      0  ...   \n",
      "4       1.55   62.3   55.0  7.44  7.37  4.61      0      0      0      0  ...   \n",
      "...      ...    ...    ...   ...   ...   ...    ...    ...    ...    ...  ...   \n",
      "10784   0.53   62.3   55.0  5.20  5.17  3.23      0      0      0      0  ...   \n",
      "10785   0.41   61.3   60.0  4.75  4.81  2.93      0      0      0      1  ...   \n",
      "10786   0.51   62.4   58.0  5.11  5.12  3.19      0      0      0      1  ...   \n",
      "10787   1.08   63.2   59.0  6.40  6.57  4.10      0      1      0      0  ...   \n",
      "10788   0.30   60.9   57.0  4.32  4.35  2.64      0      0      0      0  ...   \n",
      "\n",
      "       color_6  color_7  clarity_1  clarity_2  clarity_3  clarity_4  \\\n",
      "0            0        0          0          0          0          0   \n",
      "1            0        0          0          0          0          1   \n",
      "2            1        0          0          0          1          0   \n",
      "3            0        1          0          1          0          0   \n",
      "4            1        0          0          1          0          0   \n",
      "...        ...      ...        ...        ...        ...        ...   \n",
      "10784        0        0          0          0          0          1   \n",
      "10785        0        0          0          0          1          0   \n",
      "10786        0        0          0          0          0          1   \n",
      "10787        0        0          0          1          0          0   \n",
      "10788        1        0          0          0          0          0   \n",
      "\n",
      "       clarity_5  clarity_6  clarity_7  clarity_8  \n",
      "0              0          0          1          0  \n",
      "1              0          0          0          0  \n",
      "2              0          0          0          0  \n",
      "3              0          0          0          0  \n",
      "4              0          0          0          0  \n",
      "...          ...        ...        ...        ...  \n",
      "10784          0          0          0          0  \n",
      "10785          0          0          0          0  \n",
      "10786          0          0          0          0  \n",
      "10787          0          0          0          0  \n",
      "10788          0          1          0          0  \n",
      "\n",
      "[10789 rows x 26 columns]\n"
     ]
    }
   ],
   "source": [
    "print(df_train)\n",
    "print(df_test)"
   ]
  },
  {
   "cell_type": "code",
   "execution_count": 20,
   "id": "77a5422e",
   "metadata": {},
   "outputs": [],
   "source": [
    "target = df_train['price']\n",
    "df_train = df_train.drop(['price'],axis=1)"
   ]
  },
  {
   "cell_type": "code",
   "execution_count": 21,
   "id": "58767b41",
   "metadata": {},
   "outputs": [],
   "source": [
    "x_train,x_test,y_train,y_test = train_test_split(df_train,target,test_size=0.3,random_state=0)"
   ]
  },
  {
   "cell_type": "code",
   "execution_count": 22,
   "id": "68727645",
   "metadata": {},
   "outputs": [],
   "source": [
    "xgb =XGBRegressor( booster='gbtree', colsample_bylevel=1,\n",
    "             colsample_bynode=1, colsample_bytree=0.6, gamma=0,\n",
    "             importance_type='gain', learning_rate=0.01, max_delta_step=0,\n",
    "             max_depth=4, min_child_weight=1.5, n_estimators=2400,\n",
    "             n_jobs=1, nthread=None, objective='reg:linear',\n",
    "             reg_alpha=0.6, reg_lambda=0.6, scale_pos_weight=1, \n",
    "             silent=None, subsample=0.8, verbosity=1)\n",
    "\n",
    "\n",
    "lgbm = LGBMRegressor(objective='regression', \n",
    "                                       num_leaves=4,\n",
    "                                       learning_rate=0.01, \n",
    "                                       n_estimators=12000, \n",
    "                                       max_bin=200, \n",
    "                                       bagging_fraction=0.75,\n",
    "                                       bagging_freq=5, \n",
    "                                       bagging_seed=7,\n",
    "                                       feature_fraction=0.4, \n",
    "                                       )"
   ]
  },
  {
   "cell_type": "code",
   "execution_count": 23,
   "id": "6cb1ca22",
   "metadata": {},
   "outputs": [
    {
     "name": "stdout",
     "output_type": "stream",
     "text": [
      "[00:49:03] WARNING: /Users/runner/work/xgboost/xgboost/python-package/build/temp.macosx-10.9-x86_64-cpython-38/xgboost/src/objective/regression_obj.cu:213: reg:linear is now deprecated in favor of reg:squarederror.\n",
      "[LightGBM] [Warning] bagging_fraction is set=0.75, subsample=1.0 will be ignored. Current value: bagging_fraction=0.75\n",
      "[LightGBM] [Warning] feature_fraction is set=0.4, colsample_bytree=1.0 will be ignored. Current value: feature_fraction=0.4\n",
      "[LightGBM] [Warning] bagging_freq is set=5, subsample_freq=0 will be ignored. Current value: bagging_freq=5\n"
     ]
    },
    {
     "data": {
      "text/html": [
       "<style>#sk-container-id-1 {color: black;background-color: white;}#sk-container-id-1 pre{padding: 0;}#sk-container-id-1 div.sk-toggleable {background-color: white;}#sk-container-id-1 label.sk-toggleable__label {cursor: pointer;display: block;width: 100%;margin-bottom: 0;padding: 0.3em;box-sizing: border-box;text-align: center;}#sk-container-id-1 label.sk-toggleable__label-arrow:before {content: \"▸\";float: left;margin-right: 0.25em;color: #696969;}#sk-container-id-1 label.sk-toggleable__label-arrow:hover:before {color: black;}#sk-container-id-1 div.sk-estimator:hover label.sk-toggleable__label-arrow:before {color: black;}#sk-container-id-1 div.sk-toggleable__content {max-height: 0;max-width: 0;overflow: hidden;text-align: left;background-color: #f0f8ff;}#sk-container-id-1 div.sk-toggleable__content pre {margin: 0.2em;color: black;border-radius: 0.25em;background-color: #f0f8ff;}#sk-container-id-1 input.sk-toggleable__control:checked~div.sk-toggleable__content {max-height: 200px;max-width: 100%;overflow: auto;}#sk-container-id-1 input.sk-toggleable__control:checked~label.sk-toggleable__label-arrow:before {content: \"▾\";}#sk-container-id-1 div.sk-estimator input.sk-toggleable__control:checked~label.sk-toggleable__label {background-color: #d4ebff;}#sk-container-id-1 div.sk-label input.sk-toggleable__control:checked~label.sk-toggleable__label {background-color: #d4ebff;}#sk-container-id-1 input.sk-hidden--visually {border: 0;clip: rect(1px 1px 1px 1px);clip: rect(1px, 1px, 1px, 1px);height: 1px;margin: -1px;overflow: hidden;padding: 0;position: absolute;width: 1px;}#sk-container-id-1 div.sk-estimator {font-family: monospace;background-color: #f0f8ff;border: 1px dotted black;border-radius: 0.25em;box-sizing: border-box;margin-bottom: 0.5em;}#sk-container-id-1 div.sk-estimator:hover {background-color: #d4ebff;}#sk-container-id-1 div.sk-parallel-item::after {content: \"\";width: 100%;border-bottom: 1px solid gray;flex-grow: 1;}#sk-container-id-1 div.sk-label:hover label.sk-toggleable__label {background-color: #d4ebff;}#sk-container-id-1 div.sk-serial::before {content: \"\";position: absolute;border-left: 1px solid gray;box-sizing: border-box;top: 0;bottom: 0;left: 50%;z-index: 0;}#sk-container-id-1 div.sk-serial {display: flex;flex-direction: column;align-items: center;background-color: white;padding-right: 0.2em;padding-left: 0.2em;position: relative;}#sk-container-id-1 div.sk-item {position: relative;z-index: 1;}#sk-container-id-1 div.sk-parallel {display: flex;align-items: stretch;justify-content: center;background-color: white;position: relative;}#sk-container-id-1 div.sk-item::before, #sk-container-id-1 div.sk-parallel-item::before {content: \"\";position: absolute;border-left: 1px solid gray;box-sizing: border-box;top: 0;bottom: 0;left: 50%;z-index: -1;}#sk-container-id-1 div.sk-parallel-item {display: flex;flex-direction: column;z-index: 1;position: relative;background-color: white;}#sk-container-id-1 div.sk-parallel-item:first-child::after {align-self: flex-end;width: 50%;}#sk-container-id-1 div.sk-parallel-item:last-child::after {align-self: flex-start;width: 50%;}#sk-container-id-1 div.sk-parallel-item:only-child::after {width: 0;}#sk-container-id-1 div.sk-dashed-wrapped {border: 1px dashed gray;margin: 0 0.4em 0.5em 0.4em;box-sizing: border-box;padding-bottom: 0.4em;background-color: white;}#sk-container-id-1 div.sk-label label {font-family: monospace;font-weight: bold;display: inline-block;line-height: 1.2em;}#sk-container-id-1 div.sk-label-container {text-align: center;}#sk-container-id-1 div.sk-container {/* jupyter's `normalize.less` sets `[hidden] { display: none; }` but bootstrap.min.css set `[hidden] { display: none !important; }` so we also need the `!important` here to be able to override the default hidden behavior on the sphinx rendered scikit-learn.org. See: https://github.com/scikit-learn/scikit-learn/issues/21755 */display: inline-block !important;position: relative;}#sk-container-id-1 div.sk-text-repr-fallback {display: none;}</style><div id=\"sk-container-id-1\" class=\"sk-top-container\"><div class=\"sk-text-repr-fallback\"><pre>LGBMRegressor(bagging_fraction=0.75, bagging_freq=5, bagging_seed=7,\n",
       "              feature_fraction=0.4, learning_rate=0.01, max_bin=200,\n",
       "              n_estimators=12000, num_leaves=4, objective=&#x27;regression&#x27;)</pre><b>In a Jupyter environment, please rerun this cell to show the HTML representation or trust the notebook. <br />On GitHub, the HTML representation is unable to render, please try loading this page with nbviewer.org.</b></div><div class=\"sk-container\" hidden><div class=\"sk-item\"><div class=\"sk-estimator sk-toggleable\"><input class=\"sk-toggleable__control sk-hidden--visually\" id=\"sk-estimator-id-1\" type=\"checkbox\" checked><label for=\"sk-estimator-id-1\" class=\"sk-toggleable__label sk-toggleable__label-arrow\">LGBMRegressor</label><div class=\"sk-toggleable__content\"><pre>LGBMRegressor(bagging_fraction=0.75, bagging_freq=5, bagging_seed=7,\n",
       "              feature_fraction=0.4, learning_rate=0.01, max_bin=200,\n",
       "              n_estimators=12000, num_leaves=4, objective=&#x27;regression&#x27;)</pre></div></div></div></div></div>"
      ],
      "text/plain": [
       "LGBMRegressor(bagging_fraction=0.75, bagging_freq=5, bagging_seed=7,\n",
       "              feature_fraction=0.4, learning_rate=0.01, max_bin=200,\n",
       "              n_estimators=12000, num_leaves=4, objective='regression')"
      ]
     },
     "execution_count": 23,
     "metadata": {},
     "output_type": "execute_result"
    }
   ],
   "source": [
    "xgb.fit(x_train, y_train)\n",
    "lgbm.fit(x_train, y_train,eval_metric='rmse')"
   ]
  },
  {
   "cell_type": "code",
   "execution_count": 24,
   "id": "61666032",
   "metadata": {},
   "outputs": [],
   "source": [
    "predict1 = xgb.predict(x_test)\n",
    "predict = lgbm.predict(x_test)"
   ]
  },
  {
   "cell_type": "code",
   "execution_count": 25,
   "id": "afc57e6f",
   "metadata": {},
   "outputs": [],
   "source": [
    "predict4 = lgbm.predict(df_test)\n",
    "predict3 = xgb.predict(df_test)\n",
    "predict_y = ( predict3*0.45 + predict4 * 0.55)"
   ]
  },
  {
   "cell_type": "code",
   "execution_count": 26,
   "id": "18d3bc83",
   "metadata": {},
   "outputs": [],
   "source": [
    "submission = pd.DataFrame({\n",
    "        \"id\": test[\"id\"],\n",
    "        \"price\": predict_y\n",
    "    })\n",
    "submission.to_csv('submission.csv', index=False)"
   ]
  },
  {
   "cell_type": "code",
   "execution_count": null,
   "id": "7024f2a9",
   "metadata": {},
   "outputs": [],
   "source": [
    "## reference: using code from Kaggle House Prices: https://www.kaggle.com/code/fedi1996/house-prices-data-cleaning-viz-and-modeling/notebook"
   ]
  }
 ],
 "metadata": {
  "kernelspec": {
   "display_name": "Python 3 (ipykernel)",
   "language": "python",
   "name": "python3"
  },
  "language_info": {
   "codemirror_mode": {
    "name": "ipython",
    "version": 3
   },
   "file_extension": ".py",
   "mimetype": "text/x-python",
   "name": "python",
   "nbconvert_exporter": "python",
   "pygments_lexer": "ipython3",
   "version": "3.10.6"
  }
 },
 "nbformat": 4,
 "nbformat_minor": 5
}
